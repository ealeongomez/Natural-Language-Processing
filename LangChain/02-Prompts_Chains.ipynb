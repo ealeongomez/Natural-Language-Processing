{
 "cells": [
  {
   "cell_type": "code",
   "execution_count": 1,
   "metadata": {},
   "outputs": [
    {
     "name": "stderr",
     "output_type": "stream",
     "text": [
      "/tmp/ipykernel_6302/297971869.py:4: LangChainDeprecationWarning: The class `ChatOllama` was deprecated in LangChain 0.3.1 and will be removed in 1.0.0. An updated version of the class exists in the :class:`~langchain-ollama package and should be used instead. To use it run `pip install -U :class:`~langchain-ollama` and import as `from :class:`~langchain_ollama import ChatOllama``.\n",
      "  llm = ChatOllama(model=\"llama3.2:1b\",\n"
     ]
    }
   ],
   "source": [
    "from langchain_community.chat_models import ChatOllama\n",
    "from langchain.chains import RetrievalQA\n",
    "\n",
    "llm = ChatOllama(model=\"llama3.2:1b\",    \n",
    "                 n=2,\n",
    "                temperature=0)\n"
   ]
  },
  {
   "cell_type": "code",
   "execution_count": 2,
   "metadata": {},
   "outputs": [
    {
     "data": {
      "text/plain": [
       "ChatOllama(model='llama3.2:1b', temperature=0.0)"
      ]
     },
     "execution_count": 2,
     "metadata": {},
     "output_type": "execute_result"
    }
   ],
   "source": [
    "llm"
   ]
  },
  {
   "cell_type": "code",
   "execution_count": 3,
   "metadata": {},
   "outputs": [
    {
     "data": {
      "text/plain": [
       "AIMessage(content='El nombre \"EDER\" es una abreviatura que puede tener diferentes orígenes dependiendo del contexto. Sin embargo, uno de los posibles significados y origen del nombre \"EDER\" es \"Eduardo\", pero en algunos casos también podría ser relacionado con el nombre \"Edgar\".', additional_kwargs={}, response_metadata={'model': 'llama3.2:1b', 'created_at': '2024-12-10T13:59:28.238722087Z', 'message': {'role': 'assistant', 'content': ''}, 'done_reason': 'stop', 'done': True, 'total_duration': 5286766626, 'load_duration': 1650932015, 'prompt_eval_count': 34, 'prompt_eval_duration': 413688000, 'eval_count': 65, 'eval_duration': 3179358000}, id='run-40dda9de-d0db-411f-b11a-842fd6373a5d-0')"
      ]
     },
     "execution_count": 3,
     "metadata": {},
     "output_type": "execute_result"
    }
   ],
   "source": [
    "llm.invoke(\"De donde propiene el nombre de EDER\")"
   ]
  },
  {
   "cell_type": "code",
   "execution_count": 4,
   "metadata": {},
   "outputs": [],
   "source": [
    "from langchain.schema import HumanMessage\n",
    "\n",
    "generation = llm.generate([\n",
    "    [HumanMessage(content=\"¿Quién fue Einstein?\")],\n",
    "    [HumanMessage(content=\"¿Dónde está Edimburgo?\")]\n",
    "])"
   ]
  },
  {
   "cell_type": "code",
   "execution_count": 5,
   "metadata": {},
   "outputs": [
    {
     "data": {
      "text/plain": [
       "[[ChatGeneration(text='Einstein fue un físico teórico alemán nacido en 1879 y fallecido en 1955. Es considerado uno de los científicos más importantes del siglo XX, conocido por sus teorías sobre la relatividad y la electromagnetismo.\\n\\nEinstein desarrolló varias teorías revolucionarias que cambiaron nuestra comprensión del universo. Una de ellas es la teoría de la relatividad especial, que establece que el tiempo y el espacio están relacionados entre sí de manera muy específica. También propuso la teoría de la relatividad general, que describe cómo la gravedad afecta el movimiento de objetos en el universo.\\n\\nEinstein también fue un activo defensor del derecho humanitario y la lucha contra la opresión y la discriminación. Fue un defensor de los derechos civiles y trabajó para promover la igualdad de género y la justicia social.\\n\\nLa famosa ecuación E=mc², que relaciona la energía (E) con la masa (m) y la velocidad de la luz (c), es una de las más conocidas del universo. Esta ecuación fue desarrollada por Einstein en 1905 y 1915, respectivamente.\\n\\nEn resumen, Einstein fue un científico visionario que revolucionó nuestra comprensión del universo con sus teorías sobre la relatividad y la electromagnetismo. Su legado continúa inspirando a científicos y pensadores de todo el mundo.', generation_info={'model': 'llama3.2:1b', 'created_at': '2024-12-10T13:59:45.161920812Z', 'message': {'role': 'assistant', 'content': ''}, 'done_reason': 'stop', 'done': True, 'total_duration': 16914713494, 'load_duration': 60236912, 'prompt_eval_count': 31, 'prompt_eval_duration': 292602000, 'eval_count': 324, 'eval_duration': 16560338000}, message=AIMessage(content='Einstein fue un físico teórico alemán nacido en 1879 y fallecido en 1955. Es considerado uno de los científicos más importantes del siglo XX, conocido por sus teorías sobre la relatividad y la electromagnetismo.\\n\\nEinstein desarrolló varias teorías revolucionarias que cambiaron nuestra comprensión del universo. Una de ellas es la teoría de la relatividad especial, que establece que el tiempo y el espacio están relacionados entre sí de manera muy específica. También propuso la teoría de la relatividad general, que describe cómo la gravedad afecta el movimiento de objetos en el universo.\\n\\nEinstein también fue un activo defensor del derecho humanitario y la lucha contra la opresión y la discriminación. Fue un defensor de los derechos civiles y trabajó para promover la igualdad de género y la justicia social.\\n\\nLa famosa ecuación E=mc², que relaciona la energía (E) con la masa (m) y la velocidad de la luz (c), es una de las más conocidas del universo. Esta ecuación fue desarrollada por Einstein en 1905 y 1915, respectivamente.\\n\\nEn resumen, Einstein fue un científico visionario que revolucionó nuestra comprensión del universo con sus teorías sobre la relatividad y la electromagnetismo. Su legado continúa inspirando a científicos y pensadores de todo el mundo.', additional_kwargs={}, response_metadata={'model': 'llama3.2:1b', 'created_at': '2024-12-10T13:59:45.161920812Z', 'message': {'role': 'assistant', 'content': ''}, 'done_reason': 'stop', 'done': True, 'total_duration': 16914713494, 'load_duration': 60236912, 'prompt_eval_count': 31, 'prompt_eval_duration': 292602000, 'eval_count': 324, 'eval_duration': 16560338000}, id='run-0c0dc3f7-2a87-4103-97e2-8615cce17a15-0'))],\n",
       " [ChatGeneration(text='Edimburgo es la capital de Escocia, un país ubicado en el norte de Gran Bretaña, Inglaterra. Está situada en la costa del Mar del Norte, a unos 300 kilómetros al oeste de Londres y a unos 400 kilómetros al este de Inverness, en el sur de Escocia.', generation_info={'model': 'llama3.2:1b', 'created_at': '2024-12-10T13:59:49.439308596Z', 'message': {'role': 'assistant', 'content': ''}, 'done_reason': 'stop', 'done': True, 'total_duration': 4275795496, 'load_duration': 60054813, 'prompt_eval_count': 35, 'prompt_eval_duration': 312549000, 'eval_count': 78, 'eval_duration': 3861065000}, message=AIMessage(content='Edimburgo es la capital de Escocia, un país ubicado en el norte de Gran Bretaña, Inglaterra. Está situada en la costa del Mar del Norte, a unos 300 kilómetros al oeste de Londres y a unos 400 kilómetros al este de Inverness, en el sur de Escocia.', additional_kwargs={}, response_metadata={'model': 'llama3.2:1b', 'created_at': '2024-12-10T13:59:49.439308596Z', 'message': {'role': 'assistant', 'content': ''}, 'done_reason': 'stop', 'done': True, 'total_duration': 4275795496, 'load_duration': 60054813, 'prompt_eval_count': 35, 'prompt_eval_duration': 312549000, 'eval_count': 78, 'eval_duration': 3861065000}, id='run-2099e4b2-0ad0-4b97-bff4-fa79317b1780-0'))]]"
      ]
     },
     "execution_count": 5,
     "metadata": {},
     "output_type": "execute_result"
    }
   ],
   "source": [
    "generation.generations"
   ]
  },
  {
   "cell_type": "code",
   "execution_count": 6,
   "metadata": {},
   "outputs": [
    {
     "data": {
      "text/plain": [
       "{}"
      ]
     },
     "execution_count": 6,
     "metadata": {},
     "output_type": "execute_result"
    }
   ],
   "source": [
    "generation.llm_output"
   ]
  },
  {
   "cell_type": "code",
   "execution_count": 7,
   "metadata": {},
   "outputs": [
    {
     "name": "stderr",
     "output_type": "stream",
     "text": [
      "/home/ederleon/Documentos/Tutorials/Natural-Language-Processing/venv/lib/python3.10/site-packages/tqdm/auto.py:21: TqdmWarning: IProgress not found. Please update jupyter and ipywidgets. See https://ipywidgets.readthedocs.io/en/stable/user_install.html\n",
      "  from .autonotebook import tqdm as notebook_tqdm\n"
     ]
    },
    {
     "data": {
      "text/plain": [
       "3"
      ]
     },
     "execution_count": 7,
     "metadata": {},
     "output_type": "execute_result"
    }
   ],
   "source": [
    "llm.get_num_tokens(\"Escocia\")"
   ]
  },
  {
   "cell_type": "markdown",
   "metadata": {},
   "source": [
    "# **Prompt templates**"
   ]
  },
  {
   "cell_type": "code",
   "execution_count": 8,
   "metadata": {},
   "outputs": [],
   "source": [
    "prompt_argentino = \"\"\"Respondé la pregunta basándote en el contexto de abajo. Si la\n",
    "pregunta no puede ser respondida usando la información proporcionada,\n",
    "respondé con \"Ni idea, che\".\n",
    "\n",
    "Contexto: Los Modelos de Lenguaje de Gran Escala (MLGEs) son lo último en modelos usados en el Procesamiento del Lenguaje Natural (NLP).\n",
    "Su desempeño superior a los modelos más chicos los hizo increíblemente\n",
    "útiles para los desarrolladores que arman aplicaciones con NLP. Estos modelos\n",
    "se pueden acceder vía la librería `transformers` de Hugging Face, vía OpenAI\n",
    "usando la librería `openai`, y vía Cohere usando la librería `cohere`.\n",
    "\n",
    "Pregunta: ¿Qué librerías están cerca de Buenos Aires?\n",
    "\n",
    "Respuesta (escribe como argentina informal): \"\"\""
   ]
  },
  {
   "cell_type": "code",
   "execution_count": 9,
   "metadata": {},
   "outputs": [
    {
     "data": {
      "text/plain": [
       "AIMessage(content='¡Eh! No sé ninguna de esas librerías, che. Ni idea...', additional_kwargs={}, response_metadata={'model': 'llama3.2:1b', 'created_at': '2024-12-10T13:59:55.478052213Z', 'message': {'role': 'assistant', 'content': ''}, 'done_reason': 'stop', 'done': True, 'total_duration': 1888747105, 'load_duration': 18792469, 'prompt_eval_count': 215, 'prompt_eval_duration': 949419000, 'eval_count': 19, 'eval_duration': 919447000}, id='run-6d1853a9-eceb-4363-8952-0f3428b81b21-0')"
      ]
     },
     "execution_count": 9,
     "metadata": {},
     "output_type": "execute_result"
    }
   ],
   "source": [
    "llm.invoke(prompt_argentino)"
   ]
  },
  {
   "cell_type": "code",
   "execution_count": 10,
   "metadata": {},
   "outputs": [],
   "source": [
    "from langchain import PromptTemplate\n",
    "\n",
    "plantilla_colombiana = \"\"\"Responde a la pregunta con base en el siguiente contexto, parce. Si la\n",
    "pregunta no puede ser respondida con la información proporcionada, responde\n",
    "con \"No tengo ni idea, ome\".\n",
    "\n",
    "Contexto: {contexto}\n",
    "Pregunta: {pregunta}\n",
    "\n",
    "Respuesta (escribe como colombiano informal): \"\"\"\n",
    "\n",
    "prompt_plantilla_colombiana = PromptTemplate(\n",
    "    input_variables=[\"pregunta\"],\n",
    "    template=plantilla_colombiana\n",
    ")\n"
   ]
  },
  {
   "cell_type": "code",
   "execution_count": 11,
   "metadata": {},
   "outputs": [
    {
     "name": "stderr",
     "output_type": "stream",
     "text": [
      "/tmp/ipykernel_6302/3786979182.py:3: LangChainDeprecationWarning: The class `LLMChain` was deprecated in LangChain 0.1.17 and will be removed in 1.0. Use :meth:`~RunnableSequence, e.g., `prompt | llm`` instead.\n",
      "  llm_gpt3_5_chain = LLMChain(\n"
     ]
    },
    {
     "data": {
      "text/plain": [
       "AIMessage(content='Los LLM (Large Language Models) son un tipo de inteligencia artificial diseñados para procesar y generar texto, como frases o oraciones. Son una variante de los modelos de lenguaje natural (LLM), que se han vuelto cada vez más populares en la industria del conocimiento y el aprendizaje automático.\\n\\nLos LLM son capaces de aprender patrones y estructuras en grandes cantidades de texto, lo que les permite generar contenido original y únicamente basado en los datos disponibles. Estos modelos pueden ser utilizados para una variedad de tareas, como:\\n\\n* Traducción automática\\n* Generación de texto\\n* Resumen de contenido\\n* Análisis de textos\\n* Identificación de patrones y tendencias\\n\\nLos LLM se basan en la teoría del aprendizaje profundo, que permite a los modelos aprender a representar relaciones entre conceptos y estructuras en el lenguaje. Esto les permite generar texto que es coherente y lógico, incluso cuando no están expuestos a un conjunto específico de datos.\\n\\nAlgunas características clave de los LLM incluyen:\\n\\n* Capacidad para aprender patrones y estructuras en grandes cantidades de texto\\n* Capacidad para generar contenido original basado en los datos disponibles\\n* Capacidad para procesar y analizar grandes cantidades de texto\\n* Capacidad para realizar tareas como la traducción automática, el resumen de contenido y la identificación de patrones\\n\\nSin embargo, también hay algunas limitaciones y desafíos asociados con los LLM, como:\\n\\n* Falta de contexto y comprensión del lenguaje natural\\n* Dependencia de los datos disponibles para aprender y mejorar\\n* Riesgo de generar contenido inapropiado o engañoso\\n* Falta de transparencia y rendición de cuentas en la generación de texto\\n\\nEn resumen, los LLM son un tipo de inteligencia artificial diseñado para procesar y generar texto, capaces de aprender patrones y estructuras en grandes cantidades de texto. Sin embargo, también hay algunas limitaciones y desafíos asociados con estos modelos que deben ser considerados cuidadosamente.', additional_kwargs={}, response_metadata={'model': 'llama3.2:1b', 'created_at': '2024-12-10T14:00:20.045244508Z', 'message': {'role': 'assistant', 'content': ''}, 'done_reason': 'stop', 'done': True, 'total_duration': 24482698165, 'load_duration': 18995529, 'prompt_eval_count': 32, 'prompt_eval_duration': 296733000, 'eval_count': 469, 'eval_duration': 24125248000}, id='run-490f19fa-2cfe-4f1b-950d-9f6fc6b33d69-0')"
      ]
     },
     "execution_count": 11,
     "metadata": {},
     "output_type": "execute_result"
    }
   ],
   "source": [
    "from langchain import LLMChain\n",
    "\n",
    "llm_gpt3_5_chain = LLMChain(\n",
    "    prompt=prompt_plantilla_colombiana,\n",
    "    llm=llm\n",
    ")\n",
    "\n",
    "pregunta = \"Qué son los LLMs?\"\n",
    "\n",
    "llm.invoke(pregunta)"
   ]
  },
  {
   "cell_type": "code",
   "execution_count": 12,
   "metadata": {},
   "outputs": [
    {
     "data": {
      "text/plain": [
       "AIMessage(content='Vallenato is a traditional music genre from Colombia, particularly popular in the Caribbean coast of the country. It originated in the 19th century and is characterized by its unique blend of African, Spanish, and indigenous influences.\\n\\nThe name \"vallenato\" comes from the Taino word \"valle,\" which means \"valley.\" The genre is typically played on a combination of instruments, including:\\n\\n1. Cuatro: A four-stringed instrument that is similar to a violin.\\n2. Guacharaca: A small drum with a distinctive sound.\\n3. Maracas: Shakers made from gourds or wood.\\n4. Bongos: Small drums used in percussion.\\n\\nVallenato music often features lively rhythms, catchy melodies, and storytelling lyrics that reflect the culture and history of the region. The genre is known for its energetic and dynamic performances, which typically include dancing and singing along with the musicians.\\n\\nThere are several sub-genres within vallenato, including:\\n\\n1. Vallenato: A more traditional style that emphasizes acoustic instruments and simple harmonies.\\n2. Vallenato Criollo: A more modern style that incorporates elements of salsa and other Latin American genres.\\n3. Vallenato de la Costa: A coastal version of the genre that features instruments like the maracas and guacharaca.\\n\\nVallenato has had a significant influence on Colombian music and culture, and its popularity extends beyond Colombia to other countries in Central and South America, as well as the United States.', additional_kwargs={}, response_metadata={'model': 'llama3.2:1b', 'created_at': '2024-12-10T14:00:35.928260334Z', 'message': {'role': 'assistant', 'content': ''}, 'done_reason': 'stop', 'done': True, 'total_duration': 15873932018, 'load_duration': 19021660, 'prompt_eval_count': 31, 'prompt_eval_duration': 291178000, 'eval_count': 308, 'eval_duration': 15522027000}, id='run-7c92dfc2-51f3-4d6c-b424-205543a13124-0')"
      ]
     },
     "execution_count": 12,
     "metadata": {},
     "output_type": "execute_result"
    }
   ],
   "source": [
    "pregunta = \"What is Vallenato?\"\n",
    "\n",
    "llm.invoke(pregunta)"
   ]
  },
  {
   "cell_type": "markdown",
   "metadata": {},
   "source": [
    "# **Chains**"
   ]
  },
  {
   "cell_type": "code",
   "execution_count": 13,
   "metadata": {},
   "outputs": [],
   "source": [
    "import requests\n",
    "from langchain.document_loaders import PyPDFLoader\n",
    "from langchain.vectorstores import Chroma\n",
    "from langchain_ollama import OllamaEmbeddings\n",
    "\n",
    "url = 'https://www.cs.virginia.edu/~evans/greatworks/diffie.pdf'\n",
    "response = requests.get(url)\n",
    "\n",
    "with open('public_key_cryptography.pdf', 'wb') as f:\n",
    "    f.write(response.content)\n",
    "\n",
    "loader = PyPDFLoader(\"./public_key_cryptography.pdf\")\n",
    "data = loader.load()\n"
   ]
  },
  {
   "cell_type": "code",
   "execution_count": 14,
   "metadata": {},
   "outputs": [],
   "source": [
    "embeddings = OllamaEmbeddings(model=\"nomic-embed-text\")\n",
    "vectorstore = Chroma.from_documents(data, embeddings)\n"
   ]
  },
  {
   "cell_type": "code",
   "execution_count": 15,
   "metadata": {},
   "outputs": [
    {
     "data": {
      "text/plain": [
       "18"
      ]
     },
     "execution_count": 15,
     "metadata": {},
     "output_type": "execute_result"
    }
   ],
   "source": [
    "len(data)"
   ]
  },
  {
   "cell_type": "code",
   "execution_count": 16,
   "metadata": {},
   "outputs": [
    {
     "name": "stderr",
     "output_type": "stream",
     "text": [
      "/tmp/ipykernel_6302/1712188956.py:8: LangChainDeprecationWarning: The method `Chain.run` was deprecated in langchain 0.1.0 and will be removed in 1.0. Use :meth:`~invoke` instead.\n",
      "  cadena_que_resume_documentos.run(data)\n",
      "Token indices sequence length is longer than the specified maximum sequence length for this model (4685 > 1024). Running this sequence through the model will result in indexing errors\n"
     ]
    },
    {
     "data": {
      "text/plain": [
       "\"The article discusses the development and implementation of RSA (Rivest-Shamir-Adleman) algorithm, a widely used public-key encryption method. It highlights its limitations in authentication and verification, particularly with compromised long-term keys, and notes that it has had significant implications for various fields, including nuclear testing and international relations.\\n\\nThe article also touches on the NSA's Secure Telephone Unit I1 (STU-I1) system, which used electronic key distribution and direct end-to-end encryption. However, its development was slow due to technical challenges and high costs.\\n\\nThe author notes that RSA has inspired research into new cryptographic disciplines and highlights notable contributions from cryptographers like David Chaum and W. Diffie. The article concludes by emphasizing the ongoing challenges in implementing public-key cryptography, including central problems and development cycles.\""
      ]
     },
     "execution_count": 16,
     "metadata": {},
     "output_type": "execute_result"
    }
   ],
   "source": [
    "from langchain.chains.summarize import load_summarize_chain\n",
    "\n",
    "cadena_que_resume_documentos = load_summarize_chain(\n",
    "    llm,\n",
    "    chain_type=\"map_reduce\"\n",
    ")\n",
    "\n",
    "cadena_que_resume_documentos.run(data)"
   ]
  },
  {
   "cell_type": "code",
   "execution_count": 17,
   "metadata": {},
   "outputs": [],
   "source": [
    "plantilla = \"\"\"Escribe un resumen bien chido del siguiente rollo:\n",
    "\n",
    "{text}\n",
    "\n",
    "RESUMEN CORTO CON SLANG MEXICANO:\"\"\"\n",
    "\n",
    "prompt = PromptTemplate(\n",
    "    template=plantilla,\n",
    "    input_variables=[\"text\"]\n",
    ")"
   ]
  },
  {
   "cell_type": "code",
   "execution_count": 18,
   "metadata": {},
   "outputs": [
    {
     "name": "stdout",
     "output_type": "stream",
     "text": [
      "\n",
      "\n",
      "\u001b[1m> Entering new StuffDocumentsChain chain...\u001b[0m\n",
      "\n",
      "\n",
      "\u001b[1m> Entering new LLMChain chain...\u001b[0m\n",
      "Prompt after formatting:\n",
      "\u001b[32;1m\u001b[1;3mEscribe un resumen bien chido del siguiente rollo:\n",
      "\n",
      "The First Ten Years of Public-Key \n",
      "Cryptography \n",
      "WH lTFl ELD DI FFlE \n",
      "Invited Paper \n",
      "Public-key cryptosystems separate the capacities for encryption \n",
      "and decryption so that 7) many people can encrypt messages in \n",
      "such a way that only one person can read them, or 2) one person \n",
      "can encrypt messages in such a way that many people can read \n",
      "them. This separation allows important improvements in the man- \n",
      "agement of cryptographic keys and makes it possible to ‘sign’ a \n",
      "purely digital message. \n",
      "Public key cryptography was discovered in the Spring of 1975 \n",
      "and has followed a surprising course. Although diverse systems \n",
      "were proposed early on, the ones that appear both practical and \n",
      "secure today are all very closely related and the search for new and \n",
      "different ones has met with little success. Despite this reliance on \n",
      "a limited mathematical foundation public-key cryptography is rev- \n",
      "olutionizing communication security by making possible secure \n",
      "communication networks with hundreds of thousands of subscrib- \n",
      "ers. \n",
      "Equally important is the impact of public key cryptography on \n",
      "the theoretical side of communication security. It has given cryp- \n",
      "tographers a systematic means of addressing a broad range of \n",
      "security objectives and pointed the way toward a more theoretical \n",
      "approach that allows the development of cryptographic protocols \n",
      "with proven security characteristics. \n",
      "I. INITIAL DISCOVERIES \n",
      "Public key cryptography was born in May 1975, the child \n",
      "First came the problem of key distribution. If two peo- \n",
      "ple who have never met before are to communicate \n",
      "privately using conventional cryptographic means, \n",
      "they must somehow agree in advance on a key that will \n",
      "be known to themselves and to no one else. \n",
      "The second problem, apparently unrelated to the first, \n",
      "was the problem of signatures. Could a method be \n",
      "devised that would provide the recipient of a purely \n",
      "digital electronic message with a way of demonstrat- \n",
      "ing to other people that it had come from a particular \n",
      "person, just as awritten signature on a letter allows the \n",
      "recipient to hold the author to its contents? \n",
      "On the face of it, both problems seem to demand the \n",
      "impossible. In the first case, if two people could somehow \n",
      "communicate a secret key from one to the other without \n",
      "ever having met, why could they not communicate their \n",
      "Manuscript received January 19, 1988; revised March 25,1988. \n",
      "The author is with Bell-Northern Research, Mountain View, CA \n",
      "IEEE Log Number 8821645. \n",
      "of two problems and a misunderstanding. \n",
      "94039, USA. \n",
      "message in secret? The second is no better. To be effective, \n",
      "a signature must be hard to copy. How then can a digital \n",
      "message, which can be copied perfectly, bear a signature? \n",
      "The misunderstanding was mine and prevented me from \n",
      "rediscovering the conventional key distri bution center. The \n",
      "virtue of cryptography, I reasoned, was that, unlike any \n",
      "other known security technology, it did not require trust \n",
      "in any party not directly involved in the communication, \n",
      "only trust in the cryptographic systems. What good would \n",
      "it do to develop impenetrable cryptosystems, I reasoned, \n",
      "if their users were forced to share their keys with a key dis- \n",
      "tribution center that could be compromised by either bur- \n",
      "glary or subpoena. \n",
      "The discovery consisted not of a solution, but of the rec- \n",
      "ognition that the two problems, each of which seemed \n",
      "unsolvable by definition, could be solved at all and that the \n",
      "solutions to both problems came in one package. \n",
      "First to succumb was the signature problem. The con- \n",
      "ventional use of cryptography to authenticate messages had \n",
      "been joined in the 1950s by two new applications, whose \n",
      "functions when combined constitute a signature. \n",
      "Beginning in 1952, a group under the direction of Horst \n",
      "Feistel at the Air Force Cambridge Research Center began \n",
      "to apply cryptography to the military problem of distin- \n",
      "guishing friendly from hostile aircraft. In traditional Iden- \n",
      "tification Friend or Foe systems, a fire control radar deter- \n",
      "mines the identity of an aircraft by challenging it, much as \n",
      "a sentry challenges a soldier on foot. If the airplane returns \n",
      "the correct identifying information, it is judged to be \n",
      "friendly, otherwise it is thought to be hostile or at best neu- \n",
      "tral. To allow the correct response to remain constant for \n",
      "any significant period of time, however, is to invite oppo- \n",
      "nents to record a legitimate friendly response and play it \n",
      "back whenever they themselves are challenged. The \n",
      "approach taken by Feistel’s group, and now used in the MK \n",
      "XI1 IFF system, is to vary the exchange cryptographically \n",
      "from encounter to encounter. The radar sends a randomly \n",
      "selected challenge and judges the aircraft by whether it \n",
      "receives a correctly encrypted response. Because the chal- \n",
      "lenges are never repeated, previously recorded responses \n",
      "will not be judged correct by a challenging radar. \n",
      "Later in the decade, this novel authentication technique \n",
      "was joined by another, which seems first to have been \n",
      "560 \n",
      "001&9219/88/0500-0560$01.00 0 1988 IEEE \n",
      "PROCEEDINGS OF THE IEEE, VOL. 76, NO. 5, MAY 1988 \n",
      "\n",
      "applied by Roger Needham of Cambridge University [112]. \n",
      "This timethe problem was protectingcomputer passwords. \n",
      "Access control systems often suffer from the extreme sen- \n",
      "sitivity of their password tables. The tables gather all of the \n",
      "passwards together in one place and anyone who gets \n",
      "access to this information can impersonate any of the sys- \n",
      "tem‘s users. To guard against this possibility, the password \n",
      "table is filled not with the passwords themselves, but with \n",
      "the images of the passwords under a one-way function. A \n",
      "one-way function is easy to compute, but difficult to invert. \n",
      "For any password, the correct table entry can be calculated \n",
      "easily. Given an output from the one-way function, how- \n",
      "ever, it is exceedingly difficult to find any input that will \n",
      "produce it. This reduces the value of the password table to \n",
      "an intruder tremendously, since its entries are not pass- \n",
      "words and are not acceptable to the password verification \n",
      "routine. \n",
      "Challenge and response identification and one-wayfunc- \n",
      "tions provide protection against two quite different sorts \n",
      "of threats. Challengeand response identification resists the \n",
      "efforts of an eavesdropper who can spy on the commu- \n",
      "nication channel. Since the challengevaries randomlyfrom \n",
      "event to event, the spy is unable to replay it and fool the \n",
      "challenging radar. There is, however, no protection against \n",
      "an opponent who captures the radar and learns its cryp- \n",
      "tographic keys. This opponent can use what he has learned \n",
      "to fool any other radar that is keyed the same. In contrast, \n",
      "the one-way function defeats the efforts of an intruder who \n",
      "captures the system password table (analogous to captur- \n",
      "ing the radar) but scuccumbs to anyone who intercepts the \n",
      "login message because the password does not change with \n",
      "time. \n",
      "I realized that the two goals might be achieved simul- \n",
      "taneously if the challenger could pose questions that it was \n",
      "unable to answer, but whose answers it could judge for cor- \n",
      "rectness. I saw the solution as a generalization of the one- \n",
      "way function: a trap-door one-way function that allowed \n",
      "someone in possession of secret information to go back- \n",
      "wards and compute the function’s inverse. The challenger \n",
      "would issue a value in the range of the one-way function \n",
      "and demand to know its inverse. Onlythe person who knew \n",
      "the trapdoor would be able to find the corresponding ele- \n",
      "ment in the domain, but the challenger, in possession of \n",
      "an algorithm for computing the one-way function, could \n",
      "readilychecktheanswer. In theapplicaticnsthat later came \n",
      "toseem most important, the roleof thechallengewas played \n",
      "by a message and the process took on the character of a \n",
      "signature, a digital signature. \n",
      "It did not take long to realize that the trap-door one-way \n",
      "function could also be applied to the baffling problem of \n",
      "key distribution. For someone in possession of the forward \n",
      "form of the one-way function to send a secret message to \n",
      "the person who knew the trapdoor, he had only to trans- \n",
      "form the message with the one-way function. Only the \n",
      "holder of the trap-door information would be able to invert \n",
      "the operation and recover the message. Because knowing \n",
      "the forward form of the function did not make it possible \n",
      "to compute the inverse, the function could be made freely \n",
      "available. It is this possibility that gave the field its name: \n",
      "public-ke y cryptography. \n",
      "The concept that emerges is that of a public-key cryp- \n",
      "tosystem: a cryptosystem in which keys come in inverse \n",
      "pairs [36] and each pair of keys has two properties. \n",
      "- Anything encrypted with one key can be decrypted \n",
      "with the other. \n",
      "Given one member of the pair, the public key, it is \n",
      "infeasible to discover the other, the secret key. \n",
      "This separation of encryption and decryption makes it \n",
      "possible for the subscribers to a communication system to \n",
      "list their public keys in a “telephone directory” along with \n",
      "their names and addresses. This done, the solutions to the \n",
      "original problems can be achieved by simple protocols. \n",
      "One subscriber can send a private message to another \n",
      "simply by looking up the addressee’s public key and \n",
      "using it to encrypt the message. Only the holder of the \n",
      "corresponding secret key can read such a message; \n",
      "even the sender, should he lose the plaintext, is inca- \n",
      "pable of extracting it from the ciphertext. \n",
      "A subscriber can sign a message by encrypting it with \n",
      "his own secret key. Anyone with access to the public \n",
      "key can verify that it must have been encrypted with \n",
      "the corresponding secret key, but this is of no help to \n",
      "him in creating (forging) a message with this property. \n",
      "The first aspect of public-key cryptography greatly sim- \n",
      "plifies the management of keys, especially in large com- \n",
      "munication networks. In order for a pair of subscribers to \n",
      "communicate privately using conventional end-to-end \n",
      "cryptography, they must both have copies of the same cryp- \n",
      "tographic key and this key must be kept secret from anyone \n",
      "they do not wish to take into their confidence. If a network \n",
      "has only a few subscribers, each person simply stores one \n",
      "key for every other subscriber against the day he will need \n",
      "it, but for a large network, this is impractical. \n",
      "In a network with n subscribers there are n(n - 1)/2 pairs, \n",
      "each of which may require a key. This amounts to five thou- \n",
      "sand keys in a network with only a hundred subscribers, \n",
      "half a million in a network with one thousand, and twenty \n",
      "million billion in a network the size of the North American \n",
      "telephone system. It is unthinkable to distribute this many \n",
      "keys in advance and undesirable to postpone secure com- \n",
      "munication while they are carried from one party to the \n",
      "other by courier. \n",
      "The second aspect makes its possible to conduct a much \n",
      "broader range of normal business practices over a tele- \n",
      "communication network. Theavailabilityof asignature that \n",
      "the receiver of a message cannot forge and the sender can- \n",
      "not readily disavow makes it possible to trust the network \n",
      "with negotiations and transactions of much higher value \n",
      "than would otherwise be possible. \n",
      "It must be noted that both problems can be solved with- \n",
      "out public-key cryptography, but that conventional solu- \n",
      "tions come at a great price. Centralized key distribution \n",
      "centers can on request provide a subscriber with a key for \n",
      "communicating with any other subscriber and protocols \n",
      "for this purpose will be discussed later on. The function of \n",
      "the signature can also beapproximated byacentral registry \n",
      "that records all transactions and bears witness in cases of \n",
      "dispute. Both mechanisms, however, encumber the net- \n",
      "work with the intrusion of a third party into many conver- \n",
      "sations, diminishing security and degrading performance. \n",
      "At the time public-key cryptography was discovered, I \n",
      "was working with Martin Hellman in the Electrical Engi- \n",
      "neering Department at Stanford University. It was our \n",
      "immediate reaction, and by no means ours alone, that the \n",
      "DIFFIE: TEN YEARS OF PUBLIC-KEY CRYPTOGRAPHY 561 \n",
      "\n",
      "RESUMEN CORTO CON SLANG MEXICANO:\u001b[0m\n",
      "\n",
      "\u001b[1m> Finished chain.\u001b[0m\n",
      "\n",
      "\u001b[1m> Finished chain.\u001b[0m\n"
     ]
    },
    {
     "data": {
      "text/plain": [
       "'La public-key cryptography es un sistema de criptografía que utiliza dos pares de claves inversas: una clave pública y una clave privada. La clave pública se utiliza para cifrar mensajes, mientras que la clave privada se utiliza para descriptografarlos.\\n\\nEl concepto de public-key cryptography se basa en el hecho de que cualquier persona con la clave pública puede decifrar cualquier mensaje cifrado con la clave privada correspondiente. Esto permite a los usuarios compartir información sin preocuparse por la seguridad, ya que no necesitan compartir las claves privadas.\\n\\nLa primera parte de este artículo describe cómo se utilizan las claves públicas y privadas en una red de comunicación para garantizar la confidencialidad y la autenticidad de los mensajes. Se menciona cómo el uso de claves públicas y privadas permite a los usuarios compartir información sin comprometer la seguridad, y cómo esto puede ser utilizado para realizar transacciones financieras seguras.\\n\\nLa segunda parte del artículo analiza las ventajas y desventajas de la public-key cryptography en comparación con otras formas de criptografía. Se menciona que la clave pública es más fácil de compartir y distribuir que la clave privada, lo que puede ser un problema en redes grandes. Además, se menciona que la clave pública puede ser utilizada para realizar transacciones financieras seguras, pero esto requiere una centralización de claves públicas.\\n\\nEl artículo también destaca la importancia de la seguridad y la confidencialidad en las redes de comunicación, y cómo la public-key cryptography puede ayudar a garantizar estos aspectos. Finalmente, el artículo concluye que la public-key cryptography es un sistema importante para proteger la información en las redes de comunicación.\\n\\nEn resumen, este artículo describe la concepto de public-key cryptography, su aplicación en redes de comunicación y sus ventajas y desventajas. También destaca la importancia de la seguridad y la confidencialidad en las redes de comunicación.'"
      ]
     },
     "execution_count": 18,
     "metadata": {},
     "output_type": "execute_result"
    }
   ],
   "source": [
    "cadena_que_resume_con_slang = load_summarize_chain(\n",
    "    llm=llm,\n",
    "    chain_type=\"stuff\",\n",
    "    prompt=prompt,\n",
    "    verbose=True\n",
    ")\n",
    "\n",
    "cadena_que_resume_con_slang.run(data[:2])"
   ]
  },
  {
   "cell_type": "code",
   "execution_count": 19,
   "metadata": {},
   "outputs": [],
   "source": [
    "from langchain.chains import RetrievalQA\n",
    "\n",
    "cadena_que_resuelve_preguntas = RetrievalQA.from_chain_type(\n",
    "    llm=llm,\n",
    "    chain_type=\"stuff\",\n",
    "    retriever=vectorstore.as_retriever(search_kwargs={\"k\": 2})\n",
    ")"
   ]
  },
  {
   "cell_type": "code",
   "execution_count": 20,
   "metadata": {},
   "outputs": [
    {
     "data": {
      "text/plain": [
       "'La criptografía de llaves públicas es un concepto fundamental en el campo de la criptografía y la seguridad cibernética. Aquí te explico por qué es tan importante:\\n\\n**¿Qué es una llave pública?**\\n\\nUna llave pública, también conocida como clave pública, es un conjunto de claves que se utilizan para cifrar y descifrar mensajes. En otras palabras, es el \"almacen\" de los secretos.\\n\\n**¿Por qué es importante la criptografía de llaves públicas?**\\n\\nLa criptografía de llaves públicas tiene varias razones fundamentales por las cuales es tan relevante:\\n\\n1. **Seguridad cibernética**: La criptografía de llaves públicas garantiza que los mensajes no sean interceptados o descifrados sin la clave pública correspondiente. Esto significa que cualquier atacante que tenga acceso a la clave pública puede leer el mensaje, pero solo si tiene la clave pública necesaria.\\n2. **Privacidad**: La criptografía de llaves públicas protege la privacidad de los usuarios al garantizar que sus mensajes no sean interceptados o descifrados sin su consentimiento.\\n3. **Autenticidad**: La criptografía de llaves públicas también puede ser utilizada para verificar la autenticidad de un mensaje, lo que significa que solo se puede leer el mensaje si tiene la clave pública correspondiente y es legítimo.\\n4. **Integridad**: La criptografía de llaves públicas garantiza la integridad de los datos al asegurar que no se alteren o modifican sin la clave pública necesaria.\\n\\n**Ejemplos prácticos**\\n\\nLa criptografía de llaves públicas tiene aplicaciones en muchos campos, como:\\n\\n* **Comunicaciones seguras**: La criptografía de llaves públicas es fundamental para las comunicaciones seguras en línea, como correo electrónico y redes sociales.\\n* **Acceso a archivos**: La criptografía de llaves públicas se utiliza comúnmente para acceder a archivos sensibles, como documentos financieros o información confidencial.\\n* **Seguridad de la información**: La criptografía de llaves públicas es importante para proteger la información sensible en entornos de trabajo y de investigación.\\n\\nEn resumen, la criptografía de llaves públicas es fundamental para garantizar la seguridad cibernética, la privacidad, la autenticidad y la integridad de los datos. Es un concepto clave que debe ser comprendido y respetado en el mundo digital actual.'"
      ]
     },
     "execution_count": 20,
     "metadata": {},
     "output_type": "execute_result"
    }
   ],
   "source": [
    "cadena_que_resuelve_preguntas.run(\"¿Cuál es la relevancia de la criptografía de llave pública?\")"
   ]
  },
  {
   "cell_type": "code",
   "execution_count": 21,
   "metadata": {},
   "outputs": [],
   "source": [
    "## Foundaational chains"
   ]
  },
  {
   "cell_type": "code",
   "execution_count": 25,
   "metadata": {},
   "outputs": [],
   "source": [
    "import re\n",
    "\n",
    "def limpiar_texto(entradas: dict) -> dict:\n",
    "    texto = entradas[\"texto\"]\n",
    "\n",
    "    patron_emoji = re.compile(\n",
    "        \"[\"\n",
    "        \"\\U0001F600-\\U0001F64F\"  # emoticonos\n",
    "        \"\\U0001F300-\\U0001F5FF\"  # símbolos y pictogramas\n",
    "        \"\\U0001F680-\\U0001F6FF\"  # símbolos de transporte y mapas\n",
    "        \"\\U0001F1E0-\\U0001F1FF\"  # banderas (iOS)\n",
    "        \"\\U00002702-\\U000027B0\"\n",
    "        \"\\U000024C2-\\U0001F251\"\n",
    "        \"]+\", flags=re.UNICODE,\n",
    "    )\n",
    "    texto = patron_emoji.sub(r'', texto)\n",
    "\n",
    "    # Removemos las URLs\n",
    "    patron_url = re.compile(r'https?://\\S+|www\\.\\S+')\n",
    "    texto = patron_url.sub(r'', texto)\n",
    "\n",
    "    return {\"texto_limpio\": texto}"
   ]
  },
  {
   "cell_type": "code",
   "execution_count": 26,
   "metadata": {},
   "outputs": [],
   "source": [
    "from langchain.chains import TransformChain\n",
    "\n",
    "cadena_que_limpia = TransformChain(\n",
    "    input_variables=[\"texto\"],\n",
    "    output_variables=[\"texto_limpio\"],\n",
    "    transform=limpiar_texto\n",
    ")"
   ]
  },
  {
   "cell_type": "code",
   "execution_count": 27,
   "metadata": {},
   "outputs": [
    {
     "data": {
      "text/plain": [
       "'Chequen está página  '"
      ]
     },
     "execution_count": 27,
     "metadata": {},
     "output_type": "execute_result"
    }
   ],
   "source": [
    "cadena_que_limpia.run('Chequen está página https://twitter.com/home 🙈')"
   ]
  },
  {
   "cell_type": "code",
   "execution_count": 29,
   "metadata": {},
   "outputs": [],
   "source": [
    "plantilla = \"\"\"Parafrasea este texto:\n",
    "\n",
    "{texto_limpio}\n",
    "\n",
    "En el estilo de una persona informal de {estilo}.\n",
    "\n",
    "Parafraseado: \"\"\"\n",
    "\n",
    "prompt = PromptTemplate(\n",
    "    input_variables=[\"texto_limpio\", \"estilo\"],\n",
    "    template=plantilla\n",
    ")"
   ]
  },
  {
   "cell_type": "code",
   "execution_count": 30,
   "metadata": {},
   "outputs": [],
   "source": [
    "from langchain.chains import LLMChain\n",
    "\n",
    "cadena_que_cambia_estilo = LLMChain(\n",
    "    llm=llm,\n",
    "    prompt=prompt,\n",
    "    output_key='texto_final'\n",
    ")"
   ]
  },
  {
   "cell_type": "code",
   "execution_count": 31,
   "metadata": {},
   "outputs": [],
   "source": [
    "from torch.utils.data.dataset import ChainDataset\n",
    "from langchain.chains import SequentialChain\n",
    "\n",
    "cadena_secuencial = SequentialChain(\n",
    "    chains=[cadena_que_limpia, cadena_que_cambia_estilo],\n",
    "    input_variables=[\"texto\", \"estilo\"],\n",
    "    output_variables=[\"texto_final\"]\n",
    ")\n"
   ]
  },
  {
   "cell_type": "code",
   "execution_count": 32,
   "metadata": {},
   "outputs": [],
   "source": [
    "texto_entrada = \"\"\"\n",
    "¡Monterrey es una ciudad impresionante! 🏙️\n",
    "Es conocida por su impresionante paisaje de montañas ⛰️ y su vibrante cultura norteña.\n",
    "¡No olvides visitar el famoso Museo de Arte Contemporáneo (MARCO)!\n",
    "🖼️ Si eres fanático del fútbol, no puedes perderte un partido de los Rayados o de los Tigres. ⚽\n",
    "Aquí te dejo algunos enlaces para que puedas conocer más sobre esta maravillosa ciudad:\n",
    "https://visitamonterrey.com, https://museomarco.org, https://rayados.com, https://www.tigres.com.mx.\n",
    "¡Monterrey te espera con los brazos abiertos! 😃🇲🇽\n",
    "\"\"\""
   ]
  },
  {
   "cell_type": "code",
   "execution_count": 33,
   "metadata": {},
   "outputs": [
    {
     "name": "stderr",
     "output_type": "stream",
     "text": [
      "/tmp/ipykernel_6302/4164741135.py:1: LangChainDeprecationWarning: The method `Chain.__call__` was deprecated in langchain 0.1.0 and will be removed in 1.0. Use :meth:`~invoke` instead.\n",
      "  cadena_secuencial({'texto': texto_entrada, 'estilo': 'Perú'})\n"
     ]
    },
    {
     "data": {
      "text/plain": [
       "{'texto': '\\n¡Monterrey es una ciudad impresionante! 🏙️\\nEs conocida por su impresionante paisaje de montañas ⛰️ y su vibrante cultura norteña.\\n¡No olvides visitar el famoso Museo de Arte Contemporáneo (MARCO)!\\n🖼️ Si eres fanático del fútbol, no puedes perderte un partido de los Rayados o de los Tigres. ⚽\\nAquí te dejo algunos enlaces para que puedas conocer más sobre esta maravillosa ciudad:\\nhttps://visitamonterrey.com, https://museomarco.org, https://rayados.com, https://www.tigres.com.mx.\\n¡Monterrey te espera con los brazos abiertos! 😃🇲🇽\\n',\n",
       " 'estilo': 'Perú',\n",
       " 'texto_final': '¡Monterrey es una ciudad impresionante! Es conocida por su impresionante paisaje montañoso y su vibrante cultura norteña. Si eres fanático del fútbol, no puedes perder un partido de los Rayados o de los Tigres. Aquí te dejo algunos enlaces para conocer más sobre esta maravillosa ciudad:\\n\\n¡Monterrey te espera con los brazos abiertos!'}"
      ]
     },
     "execution_count": 33,
     "metadata": {},
     "output_type": "execute_result"
    }
   ],
   "source": [
    "cadena_secuencial({'texto': texto_entrada, 'estilo': 'Perú'})"
   ]
  }
 ],
 "metadata": {
  "kernelspec": {
   "display_name": "venv",
   "language": "python",
   "name": "python3"
  },
  "language_info": {
   "codemirror_mode": {
    "name": "ipython",
    "version": 3
   },
   "file_extension": ".py",
   "mimetype": "text/x-python",
   "name": "python",
   "nbconvert_exporter": "python",
   "pygments_lexer": "ipython3",
   "version": "3.10.12"
  }
 },
 "nbformat": 4,
 "nbformat_minor": 2
}
